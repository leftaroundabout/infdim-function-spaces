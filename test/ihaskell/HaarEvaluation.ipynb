{
 "cells": [
  {
   "cell_type": "code",
   "execution_count": 1,
   "metadata": {
    "collapsed": true
   },
   "outputs": [],
   "source": [
    "import Math.Function.FiniteElement.PWConst\n",
    "import Math.LinearMap.Category\n",
    "import Data.VectorSpace\n",
    "import Data.Manifold.Types"
   ]
  },
  {
   "cell_type": "code",
   "execution_count": 2,
   "metadata": {
    "collapsed": true
   },
   "outputs": [],
   "source": [
    "import Graphics.Dynamic.Plot.R2"
   ]
  },
  {
   "cell_type": "code",
   "execution_count": 15,
   "metadata": {},
   "outputs": [
    {
     "data": {
      "text/plain": [
       "GraphWindowSpecR2{lBound=-1.3333333333333337, rBound=1.3333333333333337, bBound=-2.0083211732517166, tBound=1.4110928225228814, xResolution=640, yResolution=480}"
      ]
     },
     "metadata": {},
     "output_type": "display_data"
    }
   ],
   "source": [
    "f (D¹ x) = sin x + cos (4.3*x)\n",
    "plotWindow\n",
    "  [ clickThrough\n",
    "   [ continFnPlot $\n",
    "      \\x -> if x > -1 && x < 1\n",
    "             then evalHaarFunction fSpld $ D¹ x\n",
    "             else 0/0\n",
    "   | n <- [3..]\n",
    "   , let fSpld = homsampleHaarFunction (TwoToThe n) f ]\n",
    "  , continFnPlot $ f . D¹ ]"
   ]
  },
  {
   "cell_type": "code",
   "execution_count": null,
   "metadata": {
    "collapsed": true
   },
   "outputs": [],
   "source": []
  }
 ],
 "metadata": {
  "kernelspec": {
   "display_name": "Haskell",
   "language": "haskell",
   "name": "haskell"
  },
  "language_info": {
   "codemirror_mode": "ihaskell",
   "file_extension": ".hs",
   "name": "haskell",
   "version": "8.2.1"
  }
 },
 "nbformat": 4,
 "nbformat_minor": 2
}
